{
  "nbformat": 4,
  "nbformat_minor": 0,
  "metadata": {
    "accelerator": "GPU",
    "colab": {
      "name": "Capstone_Project.ipynb",
      "provenance": [],
      "collapsed_sections": [],
      "include_colab_link": true
    },
    "kernelspec": {
      "display_name": "Python 3",
      "name": "python3"
    },
    "language_info": {
      "name": "python"
    }
  },
  "cells": [
    {
      "cell_type": "markdown",
      "metadata": {
        "id": "view-in-github",
        "colab_type": "text"
      },
      "source": [
        "<a href=\"https://colab.research.google.com/github/vavme/Bangkit-Capstone-Project/blob/main/Capstone_Project.ipynb\" target=\"_parent\"><img src=\"https://colab.research.google.com/assets/colab-badge.svg\" alt=\"Open In Colab\"/></a>"
      ]
    },
    {
      "cell_type": "markdown",
      "metadata": {
        "id": "wszBu_Kt8gPs"
      },
      "source": [
        "#Rice disease detection using Convolutional Neural Networks"
      ]
    },
    {
      "cell_type": "markdown",
      "metadata": {
        "id": "keSX3UKt8F1j"
      },
      "source": [
        "#1. Import some modules\n",
        "We use numpy to process the image input, TensorFlow to build our model and matplotlib to plot some metrics."
      ]
    },
    {
      "cell_type": "code",
      "metadata": {
        "id": "6Ho3sE2cGvWl"
      },
      "source": [
        "import matplotlib.pyplot as plt\n",
        "import numpy as np\n",
        "import os\n",
        "import tensorflow as tf\n",
        "import shutil\n",
        "\n",
        "from tensorflow.keras.preprocessing.image import ImageDataGenerator"
      ],
      "execution_count": 1,
      "outputs": []
    },
    {
      "cell_type": "markdown",
      "metadata": {
        "id": "5WO64IO272-k"
      },
      "source": [
        "#2. Load the base of the model\n",
        "In this project, we use VGG19 (Visual Geometry Group 19) CNN architecture as the base of our model."
      ]
    },
    {
      "cell_type": "code",
      "metadata": {
        "id": "LXXy_uxYWFJa",
        "colab": {
          "base_uri": "https://localhost:8080/"
        },
        "outputId": "b220ea9a-8e56-45a5-8561-da2fe256c0db"
      },
      "source": [
        "base_model = tf.keras.applications.VGG19(input_shape=(256,256,3),\n",
        "                                               include_top=False,\n",
        "                                               weights='imagenet')\n",
        "base_model.trainable = False #we won't retrain the base\n",
        "#base_model.summary()"
      ],
      "execution_count": 2,
      "outputs": [
        {
          "output_type": "stream",
          "name": "stdout",
          "text": [
            "Downloading data from https://storage.googleapis.com/tensorflow/keras-applications/vgg19/vgg19_weights_tf_dim_ordering_tf_kernels_notop.h5\n",
            "80142336/80134624 [==============================] - 1s 0us/step\n",
            "80150528/80134624 [==============================] - 1s 0us/step\n"
          ]
        }
      ]
    },
    {
      "cell_type": "markdown",
      "metadata": {
        "id": "nz1nMgf-80xz"
      },
      "source": [
        "# 3. Processing the dataset\n",
        "Unzip the zipped version of the dataset which can be downloaded here https://drive.google.com/file/d/1HG_k9Cc2Asvtf_gNKtrsy0jtcO_um3Da/view?usp=sharing."
      ]
    },
    {
      "cell_type": "code",
      "metadata": {
        "id": "UvGFMCzpnweE"
      },
      "source": [
        "import zipfile\n",
        "\n",
        "local_zip = '/content/Paddy2.zip' \n",
        "\n",
        "zip_ref = zipfile.ZipFile(local_zip, 'r')\n",
        "\n",
        "zip_ref.extractall('/content') #extracting the zip file\n",
        "zip_ref.close()"
      ],
      "execution_count": 7,
      "outputs": []
    },
    {
      "cell_type": "markdown",
      "metadata": {
        "id": "L80mOHqy9J9G"
      },
      "source": [
        "We use ImageDataGenerator to generate the training and validation data."
      ]
    },
    {
      "cell_type": "code",
      "metadata": {
        "colab": {
          "base_uri": "https://localhost:8080/"
        },
        "id": "YogO5RCVyu70",
        "outputId": "b09d004c-6496-4492-8d87-4fb04cf7f3e9"
      },
      "source": [
        "train_dir = '/content/Paddy2/Training'\n",
        "validation_dir = '/content/Paddy2/Validation'\n",
        "\n",
        "train_datagen = ImageDataGenerator(rescale = 1./255.,\n",
        "                                   rotation_range = 360,\n",
        "                                   width_shift_range = 0.2,\n",
        "                                   height_shift_range = 0.2,\n",
        "                                   shear_range = 0.2,\n",
        "                                   zoom_range = 0.2,\n",
        "                                   horizontal_flip = True)\n",
        "\n",
        "test_datagen = ImageDataGenerator(rescale = 1.0/255.)\n",
        "\n",
        "train_generator = train_datagen.flow_from_directory(train_dir,\n",
        "                                                    batch_size = 8,\n",
        "                                                    class_mode = 'categorical', \n",
        "                                                    target_size = (256, 256))\n",
        "\n",
        "validation_generator =  test_datagen.flow_from_directory(validation_dir,\n",
        "                                                    batch_size =8,\n",
        "                                                    class_mode = 'categorical', \n",
        "                                                    target_size = (256, 256))"
      ],
      "execution_count": 8,
      "outputs": [
        {
          "output_type": "stream",
          "name": "stdout",
          "text": [
            "Found 360 images belonging to 6 classes.\n",
            "Found 120 images belonging to 6 classes.\n"
          ]
        }
      ]
    },
    {
      "cell_type": "markdown",
      "metadata": {
        "id": "TGalOsQX9VEc"
      },
      "source": [
        "# 4. Add some layers on top of our base model\n",
        "We add some dense and dropout layers to the base of the model (i.e., the VGG19 architecture model)."
      ]
    },
    {
      "cell_type": "code",
      "metadata": {
        "id": "H6pn0epEyz9n"
      },
      "source": [
        "last_layer=base_model.get_layer('block5_pool') #last layer\n",
        "last_output=last_layer.output\n",
        "\n",
        "y = tf.keras.layers.Flatten()(last_output)\n",
        "y = tf.keras.layers.Dense(254, activation=\"relu\")(y)\n",
        "y=tf.keras.layers.Dense(124,activation='relu')(y)\n",
        "y = tf.keras.layers.Dropout(0.2)(y)                  \n",
        "y = tf.keras.layers.Dense(6,activation='softmax')(y) \n",
        "\n",
        "model2 = tf.keras.Model(base_model.input, y) \n",
        "\n",
        "model2.compile(optimizer = 'adam', \n",
        "              loss = 'categorical_crossentropy', \n",
        "              metrics = ['acc'])\n",
        "\n",
        "#model2.summary()"
      ],
      "execution_count": 9,
      "outputs": []
    },
    {
      "cell_type": "markdown",
      "metadata": {
        "id": "db-bgMBF9mkt"
      },
      "source": [
        "#5. Train our model"
      ]
    },
    {
      "cell_type": "code",
      "metadata": {
        "colab": {
          "base_uri": "https://localhost:8080/"
        },
        "id": "QbCDzCwFzZWD",
        "outputId": "5fe8beef-77f3-4774-fa7f-5e8cd328fd6d"
      },
      "source": [
        "#Training\n",
        "historyM2 = model2.fit(train_generator,\n",
        "            validation_data = validation_generator,\n",
        "            steps_per_epoch = 40,\n",
        "            epochs = 100,\n",
        "            validation_steps = 8,\n",
        "            verbose = 1)"
      ],
      "execution_count": 10,
      "outputs": [
        {
          "output_type": "stream",
          "name": "stdout",
          "text": [
            "Epoch 1/100\n",
            "40/40 [==============================] - 22s 229ms/step - loss: 3.3828 - acc: 0.1437 - val_loss: 1.5075 - val_acc: 0.4531\n",
            "Epoch 2/100\n",
            "40/40 [==============================] - 9s 222ms/step - loss: 1.5826 - acc: 0.3344 - val_loss: 1.3050 - val_acc: 0.3750\n",
            "Epoch 3/100\n",
            "40/40 [==============================] - 9s 222ms/step - loss: 1.4613 - acc: 0.3125 - val_loss: 1.2596 - val_acc: 0.2656\n",
            "Epoch 4/100\n",
            "40/40 [==============================] - 9s 226ms/step - loss: 1.3626 - acc: 0.3688 - val_loss: 1.1726 - val_acc: 0.4844\n",
            "Epoch 5/100\n",
            "40/40 [==============================] - 9s 223ms/step - loss: 1.3107 - acc: 0.3625 - val_loss: 1.2201 - val_acc: 0.4062\n",
            "Epoch 6/100\n",
            "40/40 [==============================] - 9s 223ms/step - loss: 1.2741 - acc: 0.4125 - val_loss: 1.2034 - val_acc: 0.4062\n",
            "Epoch 7/100\n",
            "40/40 [==============================] - 9s 223ms/step - loss: 1.3382 - acc: 0.4031 - val_loss: 1.0939 - val_acc: 0.3906\n",
            "Epoch 8/100\n",
            "40/40 [==============================] - 9s 223ms/step - loss: 1.1198 - acc: 0.4906 - val_loss: 1.1204 - val_acc: 0.4375\n",
            "Epoch 9/100\n",
            "40/40 [==============================] - 9s 221ms/step - loss: 1.1644 - acc: 0.4656 - val_loss: 1.0493 - val_acc: 0.4531\n",
            "Epoch 10/100\n",
            "40/40 [==============================] - 9s 220ms/step - loss: 1.1768 - acc: 0.4375 - val_loss: 1.1777 - val_acc: 0.3594\n",
            "Epoch 11/100\n",
            "40/40 [==============================] - 9s 219ms/step - loss: 1.1434 - acc: 0.4844 - val_loss: 0.9101 - val_acc: 0.5625\n",
            "Epoch 12/100\n",
            "40/40 [==============================] - 9s 220ms/step - loss: 1.1883 - acc: 0.4906 - val_loss: 1.0138 - val_acc: 0.4688\n",
            "Epoch 13/100\n",
            "40/40 [==============================] - 9s 220ms/step - loss: 1.1109 - acc: 0.5125 - val_loss: 0.9742 - val_acc: 0.5000\n",
            "Epoch 14/100\n",
            "40/40 [==============================] - 9s 220ms/step - loss: 1.0472 - acc: 0.5219 - val_loss: 0.9976 - val_acc: 0.5156\n",
            "Epoch 15/100\n",
            "40/40 [==============================] - 9s 219ms/step - loss: 1.1368 - acc: 0.4812 - val_loss: 1.1497 - val_acc: 0.4062\n",
            "Epoch 16/100\n",
            "40/40 [==============================] - 9s 221ms/step - loss: 0.9764 - acc: 0.5000 - val_loss: 1.0755 - val_acc: 0.4219\n",
            "Epoch 17/100\n",
            "40/40 [==============================] - 9s 220ms/step - loss: 1.0229 - acc: 0.5000 - val_loss: 1.0548 - val_acc: 0.3594\n",
            "Epoch 18/100\n",
            "40/40 [==============================] - 9s 220ms/step - loss: 1.0261 - acc: 0.5406 - val_loss: 0.9869 - val_acc: 0.4844\n",
            "Epoch 19/100\n",
            "40/40 [==============================] - 9s 223ms/step - loss: 0.9616 - acc: 0.5063 - val_loss: 1.2762 - val_acc: 0.3906\n",
            "Epoch 20/100\n",
            "40/40 [==============================] - 9s 221ms/step - loss: 1.0688 - acc: 0.5063 - val_loss: 1.1231 - val_acc: 0.3750\n",
            "Epoch 21/100\n",
            "40/40 [==============================] - 9s 220ms/step - loss: 1.0517 - acc: 0.4906 - val_loss: 1.3716 - val_acc: 0.3594\n",
            "Epoch 22/100\n",
            "40/40 [==============================] - 9s 218ms/step - loss: 0.9338 - acc: 0.5344 - val_loss: 0.9190 - val_acc: 0.4688\n",
            "Epoch 23/100\n",
            "40/40 [==============================] - 9s 219ms/step - loss: 0.9166 - acc: 0.5594 - val_loss: 1.1305 - val_acc: 0.5156\n",
            "Epoch 24/100\n",
            "40/40 [==============================] - 9s 219ms/step - loss: 0.9603 - acc: 0.5531 - val_loss: 0.9469 - val_acc: 0.4219\n",
            "Epoch 25/100\n",
            "40/40 [==============================] - 9s 222ms/step - loss: 0.9269 - acc: 0.5594 - val_loss: 1.3358 - val_acc: 0.4062\n",
            "Epoch 26/100\n",
            "40/40 [==============================] - 9s 232ms/step - loss: 0.9428 - acc: 0.5250 - val_loss: 1.0182 - val_acc: 0.4531\n",
            "Epoch 27/100\n",
            "40/40 [==============================] - 9s 233ms/step - loss: 0.8918 - acc: 0.5656 - val_loss: 0.9114 - val_acc: 0.5469\n",
            "Epoch 28/100\n",
            "40/40 [==============================] - 9s 234ms/step - loss: 0.8606 - acc: 0.5938 - val_loss: 1.1605 - val_acc: 0.5781\n",
            "Epoch 29/100\n",
            "40/40 [==============================] - 9s 232ms/step - loss: 0.9011 - acc: 0.5437 - val_loss: 1.0097 - val_acc: 0.5469\n",
            "Epoch 30/100\n",
            "40/40 [==============================] - 9s 231ms/step - loss: 0.8839 - acc: 0.5781 - val_loss: 0.9717 - val_acc: 0.5156\n",
            "Epoch 31/100\n",
            "40/40 [==============================] - 9s 230ms/step - loss: 0.8533 - acc: 0.6156 - val_loss: 0.9362 - val_acc: 0.5625\n",
            "Epoch 32/100\n",
            "40/40 [==============================] - 9s 217ms/step - loss: 0.7415 - acc: 0.6313 - val_loss: 0.9596 - val_acc: 0.5156\n",
            "Epoch 33/100\n",
            "40/40 [==============================] - 9s 219ms/step - loss: 0.8517 - acc: 0.6250 - val_loss: 1.0586 - val_acc: 0.5312\n",
            "Epoch 34/100\n",
            "40/40 [==============================] - 9s 218ms/step - loss: 0.8152 - acc: 0.6125 - val_loss: 0.9864 - val_acc: 0.5781\n",
            "Epoch 35/100\n",
            "40/40 [==============================] - 9s 218ms/step - loss: 0.8853 - acc: 0.5719 - val_loss: 1.0195 - val_acc: 0.6250\n",
            "Epoch 36/100\n",
            "40/40 [==============================] - 9s 221ms/step - loss: 0.8313 - acc: 0.5969 - val_loss: 0.9101 - val_acc: 0.6406\n",
            "Epoch 37/100\n",
            "40/40 [==============================] - 9s 219ms/step - loss: 0.8204 - acc: 0.6156 - val_loss: 1.1896 - val_acc: 0.5781\n",
            "Epoch 38/100\n",
            "40/40 [==============================] - 9s 218ms/step - loss: 0.7109 - acc: 0.6562 - val_loss: 0.7918 - val_acc: 0.6250\n",
            "Epoch 39/100\n",
            "40/40 [==============================] - 9s 219ms/step - loss: 0.8182 - acc: 0.6094 - val_loss: 0.9127 - val_acc: 0.5938\n",
            "Epoch 40/100\n",
            "40/40 [==============================] - 9s 218ms/step - loss: 0.7254 - acc: 0.6625 - val_loss: 0.9404 - val_acc: 0.5781\n",
            "Epoch 41/100\n",
            "40/40 [==============================] - 9s 219ms/step - loss: 0.9641 - acc: 0.5969 - val_loss: 0.9383 - val_acc: 0.5781\n",
            "Epoch 42/100\n",
            "40/40 [==============================] - 9s 219ms/step - loss: 0.8258 - acc: 0.6250 - val_loss: 0.8115 - val_acc: 0.7344\n",
            "Epoch 43/100\n",
            "40/40 [==============================] - 9s 220ms/step - loss: 0.8338 - acc: 0.6062 - val_loss: 1.2670 - val_acc: 0.5000\n",
            "Epoch 44/100\n",
            "40/40 [==============================] - 9s 220ms/step - loss: 0.8931 - acc: 0.6125 - val_loss: 1.1224 - val_acc: 0.4844\n",
            "Epoch 45/100\n",
            "40/40 [==============================] - 9s 218ms/step - loss: 0.7969 - acc: 0.6219 - val_loss: 1.2511 - val_acc: 0.5469\n",
            "Epoch 46/100\n",
            "40/40 [==============================] - 9s 219ms/step - loss: 0.8181 - acc: 0.6375 - val_loss: 0.9422 - val_acc: 0.5469\n",
            "Epoch 47/100\n",
            "40/40 [==============================] - 9s 218ms/step - loss: 0.8771 - acc: 0.5938 - val_loss: 0.7441 - val_acc: 0.6562\n",
            "Epoch 48/100\n",
            "40/40 [==============================] - 9s 217ms/step - loss: 0.7869 - acc: 0.6438 - val_loss: 0.6167 - val_acc: 0.7344\n",
            "Epoch 49/100\n",
            "40/40 [==============================] - 9s 216ms/step - loss: 0.6821 - acc: 0.6656 - val_loss: 0.7915 - val_acc: 0.6250\n",
            "Epoch 50/100\n",
            "40/40 [==============================] - 9s 218ms/step - loss: 0.6798 - acc: 0.6781 - val_loss: 0.8092 - val_acc: 0.6719\n",
            "Epoch 51/100\n",
            "40/40 [==============================] - 9s 220ms/step - loss: 0.7676 - acc: 0.6094 - val_loss: 0.8828 - val_acc: 0.5000\n",
            "Epoch 52/100\n",
            "40/40 [==============================] - 9s 219ms/step - loss: 0.6566 - acc: 0.6969 - val_loss: 1.0314 - val_acc: 0.5312\n",
            "Epoch 53/100\n",
            "40/40 [==============================] - 9s 220ms/step - loss: 0.7421 - acc: 0.6781 - val_loss: 0.8320 - val_acc: 0.7188\n",
            "Epoch 54/100\n",
            "40/40 [==============================] - 9s 226ms/step - loss: 0.6342 - acc: 0.7094 - val_loss: 0.8744 - val_acc: 0.6719\n",
            "Epoch 55/100\n",
            "40/40 [==============================] - 9s 220ms/step - loss: 0.7379 - acc: 0.6594 - val_loss: 0.9792 - val_acc: 0.5625\n",
            "Epoch 56/100\n",
            "40/40 [==============================] - 9s 221ms/step - loss: 0.7683 - acc: 0.7063 - val_loss: 1.1516 - val_acc: 0.5469\n",
            "Epoch 57/100\n",
            "40/40 [==============================] - 9s 221ms/step - loss: 0.6271 - acc: 0.7063 - val_loss: 0.8678 - val_acc: 0.7344\n",
            "Epoch 58/100\n",
            "40/40 [==============================] - 9s 219ms/step - loss: 0.6699 - acc: 0.6625 - val_loss: 0.7673 - val_acc: 0.6562\n",
            "Epoch 59/100\n",
            "40/40 [==============================] - 9s 220ms/step - loss: 0.6910 - acc: 0.6625 - val_loss: 0.8378 - val_acc: 0.6094\n",
            "Epoch 60/100\n",
            "40/40 [==============================] - 9s 221ms/step - loss: 0.6073 - acc: 0.6969 - val_loss: 0.7011 - val_acc: 0.7031\n",
            "Epoch 61/100\n",
            "40/40 [==============================] - 9s 221ms/step - loss: 0.6532 - acc: 0.6750 - val_loss: 0.6839 - val_acc: 0.7188\n",
            "Epoch 62/100\n",
            "40/40 [==============================] - 9s 221ms/step - loss: 0.7248 - acc: 0.7000 - val_loss: 1.2953 - val_acc: 0.5938\n",
            "Epoch 63/100\n",
            "40/40 [==============================] - 9s 222ms/step - loss: 0.7310 - acc: 0.6750 - val_loss: 0.7223 - val_acc: 0.6562\n",
            "Epoch 64/100\n",
            "40/40 [==============================] - 9s 222ms/step - loss: 0.5848 - acc: 0.7312 - val_loss: 0.6248 - val_acc: 0.7812\n",
            "Epoch 65/100\n",
            "40/40 [==============================] - 9s 221ms/step - loss: 0.5988 - acc: 0.7344 - val_loss: 0.7821 - val_acc: 0.6250\n",
            "Epoch 66/100\n",
            "40/40 [==============================] - 9s 221ms/step - loss: 0.6860 - acc: 0.6687 - val_loss: 0.8268 - val_acc: 0.6875\n",
            "Epoch 67/100\n",
            "40/40 [==============================] - 9s 224ms/step - loss: 0.6397 - acc: 0.7156 - val_loss: 0.6895 - val_acc: 0.7344\n",
            "Epoch 68/100\n",
            "40/40 [==============================] - 9s 222ms/step - loss: 0.5256 - acc: 0.7437 - val_loss: 0.8776 - val_acc: 0.7188\n",
            "Epoch 69/100\n",
            "40/40 [==============================] - 9s 221ms/step - loss: 0.6488 - acc: 0.7031 - val_loss: 1.1185 - val_acc: 0.5469\n",
            "Epoch 70/100\n",
            "40/40 [==============================] - 9s 220ms/step - loss: 0.5623 - acc: 0.7688 - val_loss: 1.1373 - val_acc: 0.5938\n",
            "Epoch 71/100\n",
            "40/40 [==============================] - 9s 222ms/step - loss: 0.6296 - acc: 0.7125 - val_loss: 0.7392 - val_acc: 0.7188\n",
            "Epoch 72/100\n",
            "40/40 [==============================] - 9s 221ms/step - loss: 0.6396 - acc: 0.6875 - val_loss: 0.8115 - val_acc: 0.7031\n",
            "Epoch 73/100\n",
            "40/40 [==============================] - 9s 220ms/step - loss: 0.7514 - acc: 0.6719 - val_loss: 0.7586 - val_acc: 0.6562\n",
            "Epoch 74/100\n",
            "40/40 [==============================] - 9s 221ms/step - loss: 0.5060 - acc: 0.7750 - val_loss: 0.9255 - val_acc: 0.6875\n",
            "Epoch 75/100\n",
            "40/40 [==============================] - 9s 221ms/step - loss: 0.5101 - acc: 0.7500 - val_loss: 0.9078 - val_acc: 0.6719\n",
            "Epoch 76/100\n",
            "40/40 [==============================] - 9s 222ms/step - loss: 0.6642 - acc: 0.6906 - val_loss: 0.7680 - val_acc: 0.7031\n",
            "Epoch 77/100\n",
            "40/40 [==============================] - 9s 222ms/step - loss: 0.5840 - acc: 0.7344 - val_loss: 0.5559 - val_acc: 0.7656\n",
            "Epoch 78/100\n",
            "40/40 [==============================] - 9s 221ms/step - loss: 0.5631 - acc: 0.7344 - val_loss: 0.9285 - val_acc: 0.6250\n",
            "Epoch 79/100\n",
            "40/40 [==============================] - 9s 220ms/step - loss: 0.4992 - acc: 0.7875 - val_loss: 0.8956 - val_acc: 0.7812\n",
            "Epoch 80/100\n",
            "40/40 [==============================] - 9s 222ms/step - loss: 0.5926 - acc: 0.7219 - val_loss: 0.6607 - val_acc: 0.7656\n",
            "Epoch 81/100\n",
            "40/40 [==============================] - 9s 222ms/step - loss: 0.5273 - acc: 0.7594 - val_loss: 1.0246 - val_acc: 0.6406\n",
            "Epoch 82/100\n",
            "40/40 [==============================] - 9s 224ms/step - loss: 0.5610 - acc: 0.7437 - val_loss: 0.8757 - val_acc: 0.6875\n",
            "Epoch 83/100\n",
            "40/40 [==============================] - 9s 221ms/step - loss: 0.5255 - acc: 0.7656 - val_loss: 0.6544 - val_acc: 0.7812\n",
            "Epoch 84/100\n",
            "40/40 [==============================] - 9s 224ms/step - loss: 0.5320 - acc: 0.7563 - val_loss: 0.9263 - val_acc: 0.6250\n",
            "Epoch 85/100\n",
            "40/40 [==============================] - 9s 226ms/step - loss: 0.5396 - acc: 0.7531 - val_loss: 0.6873 - val_acc: 0.7656\n",
            "Epoch 86/100\n",
            "40/40 [==============================] - 9s 222ms/step - loss: 0.4778 - acc: 0.7937 - val_loss: 1.0514 - val_acc: 0.6719\n",
            "Epoch 87/100\n",
            "40/40 [==============================] - 9s 222ms/step - loss: 0.4871 - acc: 0.7844 - val_loss: 0.9602 - val_acc: 0.6719\n",
            "Epoch 88/100\n",
            "40/40 [==============================] - 9s 226ms/step - loss: 0.4461 - acc: 0.8031 - val_loss: 0.9467 - val_acc: 0.7031\n",
            "Epoch 89/100\n",
            "40/40 [==============================] - 9s 225ms/step - loss: 0.5962 - acc: 0.7344 - val_loss: 1.3332 - val_acc: 0.6094\n",
            "Epoch 90/100\n",
            "40/40 [==============================] - 9s 223ms/step - loss: 0.5644 - acc: 0.7375 - val_loss: 0.8838 - val_acc: 0.6875\n",
            "Epoch 91/100\n",
            "40/40 [==============================] - 9s 227ms/step - loss: 0.4992 - acc: 0.7750 - val_loss: 0.7271 - val_acc: 0.7812\n",
            "Epoch 92/100\n",
            "40/40 [==============================] - 9s 226ms/step - loss: 0.5406 - acc: 0.7781 - val_loss: 0.6081 - val_acc: 0.7500\n",
            "Epoch 93/100\n",
            "40/40 [==============================] - 9s 224ms/step - loss: 0.5604 - acc: 0.7563 - val_loss: 0.6940 - val_acc: 0.6875\n",
            "Epoch 94/100\n",
            "40/40 [==============================] - 9s 226ms/step - loss: 0.5291 - acc: 0.7531 - val_loss: 0.5992 - val_acc: 0.7500\n",
            "Epoch 95/100\n",
            "40/40 [==============================] - 9s 223ms/step - loss: 0.4859 - acc: 0.7812 - val_loss: 1.0846 - val_acc: 0.6094\n",
            "Epoch 96/100\n",
            "40/40 [==============================] - 9s 232ms/step - loss: 0.4655 - acc: 0.8000 - val_loss: 0.8042 - val_acc: 0.6719\n",
            "Epoch 97/100\n",
            "40/40 [==============================] - 9s 230ms/step - loss: 0.4417 - acc: 0.7906 - val_loss: 0.6000 - val_acc: 0.7812\n",
            "Epoch 98/100\n",
            "40/40 [==============================] - 9s 224ms/step - loss: 0.5161 - acc: 0.7719 - val_loss: 0.7770 - val_acc: 0.7500\n",
            "Epoch 99/100\n",
            "40/40 [==============================] - 9s 226ms/step - loss: 0.5315 - acc: 0.7375 - val_loss: 0.7982 - val_acc: 0.7656\n",
            "Epoch 100/100\n",
            "40/40 [==============================] - 9s 228ms/step - loss: 0.4277 - acc: 0.7812 - val_loss: 0.5453 - val_acc: 0.7344\n"
          ]
        }
      ]
    },
    {
      "cell_type": "markdown",
      "metadata": {
        "id": "kEfNikCl9wXY"
      },
      "source": [
        "#6. Plot the metrics\n",
        "First we plot the training accuracy and validation accuracy to evaluate our model."
      ]
    },
    {
      "cell_type": "code",
      "metadata": {
        "colab": {
          "base_uri": "https://localhost:8080/",
          "height": 298
        },
        "id": "7UMhGbo00BlB",
        "outputId": "7330e5be-8982-48d4-a45d-22ec70ed93a5"
      },
      "source": [
        "acc = historyM2.history['acc']\n",
        "val_acc = historyM2.history['val_acc']\n",
        "loss = historyM2.history['loss']\n",
        "val_loss = historyM2.history['val_loss']\n",
        "\n",
        "epochs = range(len(acc))\n",
        "\n",
        "plt.plot(epochs, acc, 'r', label='Training accuracy')\n",
        "plt.plot(epochs, val_acc, 'b', label='Validation accuracy')\n",
        "plt.title('Training and validation accuracy')\n",
        "plt.legend(loc=0)\n",
        "plt.figure()\n",
        "\n",
        "\n",
        "plt.show()"
      ],
      "execution_count": 11,
      "outputs": [
        {
          "output_type": "display_data",
          "data": {
            "image/png": "[encoded data removed]",
            "text/plain": [
              "<Figure size 432x288 with 1 Axes>"
            ]
          },
          "metadata": {
            "needs_background": "light"
          }
        },
        {
          "output_type": "display_data",
          "data": {
            "text/plain": [
              "<Figure size 432x288 with 0 Axes>"
            ]
          },
          "metadata": {}
        }
      ]
    },
    {
      "cell_type": "markdown",
      "metadata": {
        "id": "VRMutSqg998u"
      },
      "source": [
        "Training loss and validation loss."
      ]
    },
    {
      "cell_type": "code",
      "metadata": {
        "colab": {
          "base_uri": "https://localhost:8080/",
          "height": 298
        },
        "id": "LnnogY6-fV_I",
        "outputId": "70e3c7eb-2904-4027-95fd-15a078ad825b"
      },
      "source": [
        "plt.plot(epochs, loss, 'r', label='Training loss')\n",
        "plt.plot(epochs, val_loss, 'b', label='Validation loss')\n",
        "plt.title('Training and validation loss')\n",
        "plt.legend(loc=0)\n",
        "plt.figure()\n",
        "\n",
        "\n",
        "plt.show()"
      ],
      "execution_count": 12,
      "outputs": [
        {
          "output_type": "display_data",
          "data": {
            "image/png": "[encoded data removed]",
            "text/plain": [
              "<Figure size 432x288 with 1 Axes>"
            ]
          },
          "metadata": {
            "needs_background": "light"
          }
        },
        {
          "output_type": "display_data",
          "data": {
            "text/plain": [
              "<Figure size 432x288 with 0 Axes>"
            ]
          },
          "metadata": {}
        }
      ]
    },
    {
      "cell_type": "markdown",
      "metadata": {
        "id": "X2xbc2Ru-DPv"
      },
      "source": [
        "#7. Exporting the trained model\n",
        "We export as h5 file (Keras savefile format) and then download the file to be used locally and to be uploaded on our cloud server."
      ]
    },
    {
      "cell_type": "code",
      "metadata": {
        "colab": {
          "base_uri": "https://localhost:8080/"
        },
        "id": "8SpZN2O71-dd",
        "outputId": "0b2bd799-e830-42fa-e98c-984f9de74f7c"
      },
      "source": [
        "export_path_keras = \"/content/Model2.h5\"\n",
        "print(export_path_keras)\n",
        "\n",
        "model2.save(export_path_keras)"
      ],
      "execution_count": 13,
      "outputs": [
        {
          "output_type": "stream",
          "name": "stdout",
          "text": [
            "/content/Model2.h5\n"
          ]
        }
      ]
    },
    {
      "cell_type": "code",
      "metadata": {
        "id": "w9BfIYlr1_Gu"
      },
      "source": [
        "from google.colab import files\n",
        "files.download('/content/Model2.h5') "
      ],
      "execution_count": null,
      "outputs": []
    },
    {
      "cell_type": "markdown",
      "metadata": {
        "id": "r5PwRVLL8Xdr"
      },
      "source": [
        "# References and datasets used:\n",
        "* [1] Rhiyas, S. (2019, July). Rice Leafs, Version 1. Retrieved May 18, 2021 from https://www.kaggle.com/shayanriyaz/riceleafs.\n",
        "* [2] Setiady, T. (2021, May). Leaf Rice Disease, Version 1. Retrieved May 19, 2021 from https://www.kaggle.com/tedisetiady/leaf-rice-disease-indonesia."
      ]
    }
  ]
}